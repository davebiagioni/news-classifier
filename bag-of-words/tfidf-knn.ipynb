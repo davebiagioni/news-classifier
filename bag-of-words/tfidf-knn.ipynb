{
 "cells": [
  {
   "cell_type": "markdown",
   "metadata": {},
   "source": [
    "Dead simple classification scheme for news articles.  Here we compute the tf-idf weighted\n",
    "bag-of-words representation (bi-gram) for the corpus, and run the sparse vector representations through a KNN classifier."
   ]
  },
  {
   "cell_type": "code",
   "execution_count": 1,
   "metadata": {
    "collapsed": true
   },
   "outputs": [],
   "source": [
    "from sklearn.feature_extraction.text import TfidfVectorizer\n",
    "from sklearn.preprocessing import LabelEncoder\n",
    "from sklearn.model_selection import train_test_split\n",
    "from sklearn.neighbors import KNeighborsClassifier\n",
    "from sklearn.metrics import f1_score\n",
    "from numpy import ones_like\n",
    "\n",
    "%matplotlib inline"
   ]
  },
  {
   "cell_type": "code",
   "execution_count": 2,
   "metadata": {
    "collapsed": false
   },
   "outputs": [],
   "source": [
    "def load_text(filename='../data/articles.txt', max_lines=None):\n",
    "  '''Returns a list of article text strings.'''\n",
    "  lines_read = 0\n",
    "  text = []\n",
    "  with open(filename, 'r') as f:\n",
    "    for line in f:\n",
    "      text.append(unicode(line, 'utf-8'))\n",
    "      lines_read += 1\n",
    "      if lines_read == max_lines:\n",
    "        break\n",
    "  return text\n",
    "\n",
    "def load_labels(filename='../data/labels.txt'):\n",
    "  '''Returns a list of the text labels per article.'''\n",
    "  with open(filename, 'r') as f:\n",
    "    labels = [x.strip() for x in f.readlines()]\n",
    "  return labels"
   ]
  },
  {
   "cell_type": "code",
   "execution_count": 3,
   "metadata": {
    "collapsed": false
   },
   "outputs": [],
   "source": [
    "# Load text labels and convert to binary.\n",
    "\n",
    "text_labels = load_labels()\n",
    "\n",
    "le = LabelEncoder()\n",
    "le.fit(text_labels)\n",
    "labels = le.transform(text_labels)"
   ]
  },
  {
   "cell_type": "code",
   "execution_count": 4,
   "metadata": {
    "collapsed": false
   },
   "outputs": [],
   "source": [
    "# Read the articles as elements of list.\n",
    "\n",
    "text = load_text()"
   ]
  },
  {
   "cell_type": "code",
   "execution_count": 5,
   "metadata": {
    "collapsed": false
   },
   "outputs": [
    {
     "name": "stdout",
     "output_type": "stream",
     "text": [
      "CPU times: user 1min 4s, sys: 1.89 s, total: 1min 5s\n",
      "Wall time: 1min 6s\n"
     ]
    },
    {
     "data": {
      "text/plain": [
       "(27097, 3709236)"
      ]
     },
     "execution_count": 5,
     "metadata": {},
     "output_type": "execute_result"
    }
   ],
   "source": [
    "# Create and fit the vectorizer using bi-grams.\n",
    "\n",
    "vectorizer = TfidfVectorizer(sublinear_tf=True, stop_words='english',\n",
    "                             ngram_range=(1, 2))\n",
    "\n",
    "%time X = vectorizer.fit_transform(text)\n",
    "text = None\n",
    "\n",
    "X.shape"
   ]
  },
  {
   "cell_type": "code",
   "execution_count": 6,
   "metadata": {
    "collapsed": false
   },
   "outputs": [
    {
     "data": {
      "text/plain": [
       "((18967, 3709236), (18967,), (8130, 3709236), (8130,))"
      ]
     },
     "execution_count": 6,
     "metadata": {},
     "output_type": "execute_result"
    }
   ],
   "source": [
    "# Split training and test data, hold out 30%.\n",
    "\n",
    "X_train, X_test, y_train, y_test = train_test_split(X, labels, train_size=0.7)\n",
    "X = None\n",
    "\n",
    "X_train.shape, y_train.shape, X_test.shape, y_test.shape"
   ]
  },
  {
   "cell_type": "code",
   "execution_count": 7,
   "metadata": {
    "collapsed": false
   },
   "outputs": [
    {
     "data": {
      "text/plain": [
       "KNeighborsClassifier(algorithm='auto', leaf_size=30, metric='minkowski',\n",
       "           metric_params=None, n_jobs=1, n_neighbors=16, p=2,\n",
       "           weights='distance')"
      ]
     },
     "execution_count": 7,
     "metadata": {},
     "output_type": "execute_result"
    }
   ],
   "source": [
    "# Create and fit the KNN classifier.  Need n_jobs=1 for sparse input.\n",
    "\n",
    "neigh = KNeighborsClassifier(n_neighbors=16, weights='distance', n_jobs=1)\n",
    "neigh.fit(X_train, y_train)"
   ]
  },
  {
   "cell_type": "code",
   "execution_count": 9,
   "metadata": {
    "collapsed": false
   },
   "outputs": [
    {
     "name": "stdout",
     "output_type": "stream",
     "text": [
      "CPU times: user 14.9 s, sys: 2.95 s, total: 17.9 s\n",
      "Wall time: 18.8 s\n"
     ]
    }
   ],
   "source": [
    "# Predict on the test set.\n",
    "\n",
    "%time y_pred = neigh.predict(X_test)"
   ]
  },
  {
   "cell_type": "code",
   "execution_count": 10,
   "metadata": {
    "collapsed": false
   },
   "outputs": [
    {
     "data": {
      "text/plain": [
       "0.82233597021870641"
      ]
     },
     "execution_count": 10,
     "metadata": {},
     "output_type": "execute_result"
    }
   ],
   "source": [
    "# f1 score on hold-out set.\n",
    "\n",
    "f1_score(y_test, y_pred)"
   ]
  },
  {
   "cell_type": "code",
   "execution_count": 11,
   "metadata": {
    "collapsed": false
   },
   "outputs": [
    {
     "data": {
      "text/plain": [
       "0.73512252042006998"
      ]
     },
     "execution_count": 11,
     "metadata": {},
     "output_type": "execute_result"
    }
   ],
   "source": [
    "# f1 score, always guessing the most likely label (\"liberal\").\n",
    "\n",
    "f1_score(y_test, ones_like(y_test))"
   ]
  },
  {
   "cell_type": "code",
   "execution_count": null,
   "metadata": {
    "collapsed": true
   },
   "outputs": [],
   "source": []
  }
 ],
 "metadata": {
  "kernelspec": {
   "display_name": "Python 2",
   "language": "python",
   "name": "python2"
  },
  "language_info": {
   "codemirror_mode": {
    "name": "ipython",
    "version": 2
   },
   "file_extension": ".py",
   "mimetype": "text/x-python",
   "name": "python",
   "nbconvert_exporter": "python",
   "pygments_lexer": "ipython2",
   "version": "2.7.13"
  }
 },
 "nbformat": 4,
 "nbformat_minor": 2
}
