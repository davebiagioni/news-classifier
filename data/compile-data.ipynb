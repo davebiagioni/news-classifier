{
 "cells": [
  {
   "cell_type": "code",
   "execution_count": 1,
   "metadata": {
    "collapsed": true
   },
   "outputs": [],
   "source": [
    "import os\n",
    "import json\n",
    "import re\n",
    "from string import printable\n",
    "import pandas as pd"
   ]
  },
  {
   "cell_type": "code",
   "execution_count": 2,
   "metadata": {
    "collapsed": false
   },
   "outputs": [],
   "source": [
    "def get_file_list(datadir='../../news-crawler/data/articles/'):\n",
    "  files = []\n",
    "  for dirpath, dirnames, filenames in os.walk(datadir):\n",
    "    if len(filenames) > 0:\n",
    "      files.extend([os.path.join(dirpath, x) for x in filenames])\n",
    "  return files\n",
    "\n",
    "def file_generator():\n",
    "  files = get_file_list()\n",
    "  for filename in files:\n",
    "    with open(filename, 'r') as f:\n",
    "      yield json.load(f)\n",
    "      \n",
    "def clean_string(string):\n",
    "  string = re.sub('\\s+', ' ', string)\n",
    "  string = ''.join([s for s in string if s in printable])\n",
    "  return string"
   ]
  },
  {
   "cell_type": "code",
   "execution_count": 3,
   "metadata": {
    "collapsed": false
   },
   "outputs": [],
   "source": [
    "out_text = 'politics-articles.txt'\n",
    "out_label = 'politics-labels.txt'\n",
    "out_url = 'politics-urls.txt'\n",
    "\n",
    "for filename in [out_text, out_label, out_url]:\n",
    "  if os.path.exists(filename):\n",
    "    os.remove(filename)\n",
    "\n",
    "for data in file_generator():\n",
    "  if data['label'] == 'satirical':\n",
    "    continue\n",
    "  if len(data['taxonomy']) == 0:\n",
    "    continue\n",
    "  labels = [data['taxonomy'][i]['label'] for i in range(len(data['taxonomy']))]\n",
    "  labels = [x for x in labels if re.match('.*politics', x)]\n",
    "  if len(labels) == 0:\n",
    "    continue\n",
    "  with open(out_text, 'a') as g:\n",
    "    g.write('{}\\n'.format(clean_string(data['text'])))\n",
    "  with open(out_label, 'a') as g:\n",
    "    g.write('{}\\n'.format(data['label']))\n",
    "  with open(out_url, 'a') as g:\n",
    "    g.write('{}\\n'.format(data['url']))"
   ]
  },
  {
   "cell_type": "code",
   "execution_count": null,
   "metadata": {
    "collapsed": true
   },
   "outputs": [],
   "source": []
  }
 ],
 "metadata": {
  "kernelspec": {
   "display_name": "Python 2",
   "language": "python",
   "name": "python2"
  },
  "language_info": {
   "codemirror_mode": {
    "name": "ipython",
    "version": 2
   },
   "file_extension": ".py",
   "mimetype": "text/x-python",
   "name": "python",
   "nbconvert_exporter": "python",
   "pygments_lexer": "ipython2",
   "version": "2.7.13"
  }
 },
 "nbformat": 4,
 "nbformat_minor": 2
}
