{
 "cells": [
  {
   "cell_type": "code",
   "execution_count": 1,
   "metadata": {
    "collapsed": false
   },
   "outputs": [],
   "source": [
    "import news_data\n",
    "from sklearn.preprocessing import LabelEncoder\n",
    "import pickle"
   ]
  },
  {
   "cell_type": "code",
   "execution_count": 2,
   "metadata": {
    "collapsed": true
   },
   "outputs": [],
   "source": [
    "# Options for evaluating this cell.\n",
    "tag = 'with-stops'   # tag for filenames\n",
    "min_sents = 3        # min sentences to keep article\n",
    "max_sents = 100      # truncate beyond this number of sentences\n",
    "keep_stops = True    # keep stop words in vocab"
   ]
  },
  {
   "cell_type": "code",
   "execution_count": null,
   "metadata": {
    "collapsed": false,
    "scrolled": true
   },
   "outputs": [
    {
     "data": {
      "text/plain": [
       "21087"
      ]
     },
     "execution_count": 3,
     "metadata": {},
     "output_type": "execute_result"
    }
   ],
   "source": [
    "# Read data directly into memory.  Each item is tuple: (text, label, url).\n",
    "# We could do this with generators but the corpus is small enough for in-memory.\n",
    "data = news_data.read_data_in_memory()\n",
    "len(data)"
   ]
  },
  {
   "cell_type": "code",
   "execution_count": null,
   "metadata": {
    "collapsed": false
   },
   "outputs": [],
   "source": [
    "# Parse the text portion of the data.\n",
    "parsed_text = news_data.parse_corpus([x[0] for x in data], keep_stops=keep_stops,\n",
    "                                     min_sents=min_sents, max_sents=max_sents)"
   ]
  },
  {
   "cell_type": "code",
   "execution_count": null,
   "metadata": {
    "collapsed": false
   },
   "outputs": [],
   "source": [
    "# Update dataset, discarding articles that had fewer than min_sents sentences.\n",
    "# Each item is tuple: (parsed_text, original_text, label, url)\n",
    "parsed_data = []\n",
    "for ix, d in enumerate(data):\n",
    "  if parsed_text[ix]:\n",
    "    parsed_data.append((parsed_text[ix], d[0], d[1], d[2]))\n",
    "len(parsed_data)"
   ]
  },
  {
   "cell_type": "code",
   "execution_count": null,
   "metadata": {
    "collapsed": true
   },
   "outputs": [],
   "source": [
    "# Delete data we no longer need.\n",
    "del data, parsed_text"
   ]
  },
  {
   "cell_type": "code",
   "execution_count": null,
   "metadata": {
    "collapsed": false
   },
   "outputs": [],
   "source": [
    "# Pickle parsed data.\n",
    "with open('parsed-data-{}.pkl'.format(tag), 'w') as f:\n",
    "  pickle.dump(parsed_data, f)"
   ]
  },
  {
   "cell_type": "code",
   "execution_count": null,
   "metadata": {
    "collapsed": true
   },
   "outputs": [],
   "source": [
    "# with open('parsed-data.pkl', 'r') as f:\n",
    "#   parsed_data = pickle.load(f)"
   ]
  },
  {
   "cell_type": "code",
   "execution_count": null,
   "metadata": {
    "collapsed": false
   },
   "outputs": [],
   "source": [
    "# Build vocabulary data structures.\n",
    "vocab_dict, vocab_dict_rev, ranked_word_list = news_data.build_vocabulary(parsed_data)"
   ]
  },
  {
   "cell_type": "code",
   "execution_count": null,
   "metadata": {
    "collapsed": false
   },
   "outputs": [],
   "source": [
    "# Encode the text.\n",
    "encoded_corpus = news_data.encode_corpus(parsed_data, vocab_dict_rev)"
   ]
  },
  {
   "cell_type": "code",
   "execution_count": null,
   "metadata": {
    "collapsed": false
   },
   "outputs": [],
   "source": [
    "# Encode the labels.\n",
    "labels_int = LabelEncoder().fit_transform([x[2] for x in parsed_data])\n",
    "len(labels_int)"
   ]
  },
  {
   "cell_type": "code",
   "execution_count": null,
   "metadata": {
    "collapsed": false
   },
   "outputs": [],
   "source": [
    "# Pickle it.\n",
    "with open('data-{}.pkl'.format(tag), 'w') as f:\n",
    "  pickle.dump({'X': encoded_corpus, 'y': labels_int, 'vocab': vocab_dict, 'vocab_index': vocab_dict_rev}, f)"
   ]
  },
  {
   "cell_type": "code",
   "execution_count": 202,
   "metadata": {
    "collapsed": false
   },
   "outputs": [],
   "source": []
  },
  {
   "cell_type": "code",
   "execution_count": null,
   "metadata": {
    "collapsed": true
   },
   "outputs": [],
   "source": []
  }
 ],
 "metadata": {
  "kernelspec": {
   "display_name": "Python 2",
   "language": "python",
   "name": "python2"
  },
  "language_info": {
   "codemirror_mode": {
    "name": "ipython",
    "version": 2
   },
   "file_extension": ".py",
   "mimetype": "text/x-python",
   "name": "python",
   "nbconvert_exporter": "python",
   "pygments_lexer": "ipython2",
   "version": "2.7.13"
  }
 },
 "nbformat": 4,
 "nbformat_minor": 2
}
